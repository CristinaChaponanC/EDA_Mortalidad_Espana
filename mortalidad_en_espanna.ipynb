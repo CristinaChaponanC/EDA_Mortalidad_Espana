{
 "cells": [
  {
   "cell_type": "markdown",
   "metadata": {
    "collapsed": true
   },
   "source": [
    "<h1 style=\"text-align:center\">\n",
    "    Causas de muerte en España\n",
    "</h1>\n",
    "\n",
    "<h2 style=\"text-align:center\">\n",
    "    Nombre Apellido1 Apellido2\n",
    "    <br/> <br/>\n",
    "    Fecha\n",
    "</h2>\n",
    "\n",
    "<hr>"
   ]
  },
  {
   "cell_type": "markdown",
   "metadata": {
    "collapsed": true
   },
   "source": [
    "## Introducción\n",
    "\n"
   ]
  },
  {
   "cell_type": "markdown",
   "metadata": {},
   "source": [
    "Explicación, si procede, de lo hecho por el estudiante."
   ]
  },
  {
   "cell_type": "markdown",
   "metadata": {
    "collapsed": true
   },
   "source": [
    "## a) Lectura básica del archivo csv\n",
    "\n",
    "Explicación, si procede, de lo hecho por el estudiante."
   ]
  },
  {
   "cell_type": "code",
   "execution_count": 4,
   "metadata": {},
   "outputs": [],
   "source": [
    "# Este apartado debe ser completado por el estudiante\n",
    "\n"
   ]
  },
  {
   "cell_type": "markdown",
   "metadata": {},
   "source": [
    "Seguidamente mostramos una prueba de funcionamiento de la función anterior. La salida que proporciona esta función ha de ser idéntica, estando cada línea convertida en una lista y siendo enteros los dos últimos datos. "
   ]
  },
  {
   "cell_type": "code",
   "execution_count": 5,
   "metadata": {},
   "outputs": [
    {
     "name": "stdout",
     "output_type": "stream",
     "text": [
      "['001-102  I-XXII.Todas las causas', 'Total', 'Todas las edades', 2012, 402950]\n",
      "['001-102  I-XXII.Todas las causas', 'Total', 'Todas las edades', 2011, 387911]\n",
      "['001-102  I-XXII.Todas las causas', 'Total', 'Todas las edades', 2010, 382047]\n",
      "['001-102  I-XXII.Todas las causas', 'Total', 'Todas las edades', 2009, 384933]\n"
     ]
    }
   ],
   "source": [
    "# Observa que en esta función se incluyen las dos líneas indicadas en los índices.\n",
    "\n",
    "mis_datos = cargar_lineas(\"ine_mortalidad_espanna.csv\", 7, 10)\n",
    "for dato in mis_datos:\n",
    "    print(dato)"
   ]
  },
  {
   "cell_type": "markdown",
   "metadata": {
    "collapsed": true
   },
   "source": [
    "## b) Dos funciones auxiliares\n",
    "\n",
    "- b.1) Una primera función convertirá un número romano en un entero.\n",
    "\n",
    "Las pruebas de funcionamiento te darán la descripción del comportamiento que se espera."
   ]
  },
  {
   "cell_type": "code",
   "execution_count": 6,
   "metadata": {},
   "outputs": [],
   "source": [
    "# Este apartado debe ser completado por el estudiante\n",
    "\n"
   ]
  },
  {
   "cell_type": "code",
   "execution_count": 7,
   "metadata": {},
   "outputs": [
    {
     "name": "stdout",
     "output_type": "stream",
     "text": [
      "[('I', 1), ('IV', 4), ('XIV', 14), ('XXXIX', 39), ('VL', 45), ('LXIV', 64), ('MCDXCII', 1492)]\n"
     ]
    }
   ],
   "source": [
    "# Pruebas propuestas por el profesor\n",
    "\n",
    "print([(r, romano_a_entero(r)) \\\n",
    "      for r in [\"I\", \"IV\", \"XIV\", \"XXXIX\", \"VL\", \"LXIV\", \"MCDXCII\"]])"
   ]
  },
  {
   "cell_type": "markdown",
   "metadata": {
    "collapsed": true
   },
   "source": [
    "b.2) En segundo lugar, mirando la tabla de datos, puedes observar que, en algunas líneas, se agrupan las causas de muerte por categorías. Estas líneas empiezan por tres  dígitos, seguidos por un guion y otros tres dígitos:\n",
    "\n",
    "        001-008 I.Enfermedades infecciosas y parasitarias Hombres De 65 a 69 años 2001 305\n",
    "\n",
    "Pero cuidado, también hay algunas líneas que totalizan **todas** las causas:\n",
    "\n",
    "        001-102 I-XXII.Todas las causas Mujeres De 10 a 14 años 1983 308\n",
    "\n",
    "Nos interesan las primeras, pero no las segundas.\n",
    "\n",
    "Te pido una función que dice si una línea es de la primera categoría pero no de la segunda, o sea, si cumple las siguientes condiciones:\n",
    "\n",
    "        - Empieza por tres dígitos, seguidos por un guion y otros tres dígitos.\n",
    "        - No totaliza **todas** las causas de fallecimiento.\n",
    "\n",
    "La primera circunstancia (lo de los dígitos) se puede comprobar usando una expresión regular. Hazlo así para usar esta librería, siquiera básicamente.\n",
    "\n",
    "También en este caso, las pruebas de funcionamiento te servirán para concretar comportamiento que se espera."
   ]
  },
  {
   "cell_type": "code",
   "execution_count": 8,
   "metadata": {},
   "outputs": [],
   "source": [
    "# Este apartado debe ser completado por el estudiante\n",
    "\n"
   ]
  },
  {
   "cell_type": "code",
   "execution_count": 9,
   "metadata": {},
   "outputs": [
    {
     "name": "stdout",
     "output_type": "stream",
     "text": [
      "009-041  II.Tumores                                                              \t True\n",
      "009  Tumor maligno del esófago                                                   \t False\n",
      "001-102  I-XXII.Todas las causas                                                 \t False\n",
      "077-080  XIV.Enfermedades del sistema genitourinario                             \t True\n",
      "082  XVI.Afecciones originadas en el periodo perinatal                           \t False\n",
      "050-052  VI-VIII.Enfermedades del sistema nervioso y de los órganos de los sentidos \t True\n"
     ]
    }
   ],
   "source": [
    "# Este apartado es aportado por el profesor\n",
    "\n",
    "lista_de_causas = [\n",
    "    \"009-041  II.Tumores\",\n",
    "    \"009  Tumor maligno del esófago\",\n",
    "    \"001-102  I-XXII.Todas las causas\",\n",
    "    \"077-080  XIV.Enfermedades del sistema genitourinario\",\n",
    "    \"082  XVI.Afecciones originadas en el periodo perinatal\",\n",
    "    \"050-052  VI-VIII.Enfermedades del sistema nervioso y de los órganos de los sentidos\"\n",
    "]\n",
    "\n",
    "for causa in lista_de_causas:\n",
    "    print(causa.ljust(80), \"\\t\", es_grupo_y_no_total(causa))"
   ]
  },
  {
   "cell_type": "markdown",
   "metadata": {
    "collapsed": true
   },
   "source": [
    "## c) Carga selectiva de grupos de enfermedades\n",
    "\n",
    "\n",
    "Para completar por el estudiante..."
   ]
  },
  {
   "cell_type": "code",
   "execution_count": 10,
   "metadata": {},
   "outputs": [],
   "source": [
    "# Este apartado debe ser completado por el estudiante.\n",
    "# Pon atención, en el ejemplo de salida, a la palabra órgano, con tilde\n",
    "\n"
   ]
  },
  {
   "cell_type": "code",
   "execution_count": 11,
   "metadata": {},
   "outputs": [
    {
     "name": "stdout",
     "output_type": "stream",
     "text": [
      "36036 265122\n",
      "('050-052  VI-VIII', 'VI', 6, 'Enfermedades del sistema nervioso y de los órganos de los sentidos', 2005, 19)\n",
      "('001-008  I', 'I', 1, 'Enfermedades infecciosas y parasitarias', 1984, 3232)\n",
      "('001-008  I', 'I', 1, 'Enfermedades infecciosas y parasitarias', 1992, 16)\n",
      "('062-067  X', 'X', 10, 'Enfermedades del sistema respiratorio', 1986, 31)\n",
      "('074-076  XIII', 'XIII', 13, 'Enfermedades del sistema osteomuscular y del tejido conjuntivo', 2017, 0)\n"
     ]
    }
   ],
   "source": [
    "datos, num_lin_descartadas = cargar_datos(\"ine_mortalidad_espanna.csv\")\n",
    "\n",
    "print(len(datos), num_lin_descartadas)\n",
    "\n",
    "for i in [13000, 34, 1001, 20000, 25000]:\n",
    "    print(datos[i])"
   ]
  },
  {
   "cell_type": "markdown",
   "metadata": {
    "collapsed": true
   },
   "source": [
    "## d) ..............................\n",
    "\n",
    "\n",
    "Complétese el enunciado y la solución con las celdas necesarias ..................\n"
   ]
  },
  {
   "cell_type": "markdown",
   "metadata": {
    "collapsed": true
   },
   "source": [
    "## e) ..............................\n",
    "\n",
    "\n",
    "Complétese el enunciado y la solución con las celdas necesarias ..................\n",
    "\n",
    "\n",
    "\n",
    "<center>\n",
    "    <img src=\"./images/Serie_todas_las_causas_total_todas_las_edades_.png\" width=\"650\">\n",
    "</center>\n",
    "\n"
   ]
  },
  {
   "cell_type": "code",
   "execution_count": 12,
   "metadata": {},
   "outputs": [],
   "source": [
    "# Este apartado debe ser completado por el estudiante\n",
    "\n"
   ]
  },
  {
   "cell_type": "code",
   "execution_count": 14,
   "metadata": {},
   "outputs": [],
   "source": [
    "# Este test debe ser completado por el estudiante\n",
    "\n"
   ]
  },
  {
   "cell_type": "markdown",
   "metadata": {
    "collapsed": true
   },
   "source": [
    "## f)\n",
    "\n",
    "\n",
    "Deseamos comparar la mortalidad de los dos sexos y obtener un gráfico parecido al siguiente:\n",
    "\n",
    "<center>\n",
    "    <img src=\"./images/ambos_sexos.png\" width=\"650\">\n",
    "</center>\n",
    "\n",
    "Nuestra función tendrá como parámetro la causa de la muerte y los años mínimo y máximo, 1980 y 2018 por defecto, y mostrará tres líneas: la de los hombres (en azul), la de las mujeres (en rojo) y la del total (en verde). Será similar a la gráfica de la figura, pero deseamos que la escala de ordenadas parta de 0, para que la interpretación de la gráfica sea más intuitiva. También, la leyenda (hombres, en azul, mujeres, en rojo, y el total, en verde) debería verse en la gráfica. Finalmente, el rótulo de la gráfica debe indicar cuál es la causa de la muerte."
   ]
  },
  {
   "cell_type": "markdown",
   "metadata": {
    "collapsed": true
   },
   "source": [
    "##  ... resto de los apartados\n",
    "\n",
    "Para el siguiente apartado, necesitamos descargar, también del INE, una tabla con la población española cada año, por sexo (\"Todas las edades\", \"Hombres\", \"Mujeres\") y edad (\"Menos de 1 año\", \"De 1 a 4 años\", ..., \"95 y más años\").\n",
    "\n",
    "Una vez descargada o construida esta tabla, te pido que construyas un dataframe donde con los datos de mortalidad anterior pero ampliados con dos columnas: una correspondiente a la población y otra, la más interesante, con la tasa de mortalidad correspondiente a cada causa, sexo, edad y año."
   ]
  },
  {
   "cell_type": "markdown",
   "metadata": {
    "collapsed": true
   },
   "source": [
    "<hr>\n",
    "\n",
    "### Datos personales\n",
    "\n",
    "-   **Apellidos:** ......................................\n",
    "-   **Nombre:** ......................................\n",
    "-   **Email:** ......................................\n",
    "-   **Fecha:** ......................................\n",
    "\n",
    "<hr>\n",
    "\n",
    "### Ficha de autoevaluación\n",
    "\n",
    "**Comentarios**: ............. comentarios del estudiante. Lo siguiente es un ejemplo posible obviamente .............\n",
    "\n",
    "|Apartado|Calificación|Comentario|\n",
    "|-|-|-|\n",
    "|a)  |1.5 / 1.5  |Completamente resuelto |\n",
    "|b1) |0.5 / 1.0  |Resuelto a medias |\n",
    "|b2) |0.5 / 1.0  |Resuelto pero sin usar expresiones reguatres |\n",
    "|c)  |0.0 / 1.5  |No he logrado el correcto funcionamiento |\n",
    "|... |... / ...  |... |\n",
    "|**Total** |**8.75** / 10.0|**Notable**|\n",
    "\n",
    "### Técnicas empleadas en los distintos apartados\n",
    "\n",
    "..................... comentarios del estudiante .....................\n",
    "\n",
    "|Técnica|Apartado|Comentario|\n",
    "|-|-|-|\n",
    "|Listas intensionales     | ........................ | ........................... |\n",
    "|F. de orden superior     | ........................ | ........................... |\n",
    "|dataframes               | ........................ | ........................... |\n",
    "|sort con parámetros      | ........................ | ........................... |\n",
    "|Map-reduce               | ........................ | ........................... |\n",
    "|Excepciones              | ........................ | ........................... |\n",
    "|... completa tú esto ... | ........................ | ........................... |\n",
    "\n",
    "\n",
    "### Ayuda recibida y fuentes utilizadas\n",
    "\n",
    "..................... comentarios del estudiante .....................\n",
    "\n",
    "### Comentario adicional\n",
    "\n",
    "..................... Este apartado es optativo ....................."
   ]
  },
  {
   "cell_type": "code",
   "execution_count": 9,
   "metadata": {},
   "outputs": [],
   "source": [
    "# Esta celda se ha de respetar: está aquí para comprobar el funcionamiento de algunas funciones por parte de tu profesor"
   ]
  }
 ],
 "metadata": {
  "kernelspec": {
   "display_name": "Python 3",
   "language": "python",
   "name": "python3"
  },
  "language_info": {
   "codemirror_mode": {
    "name": "ipython",
    "version": 3
   },
   "file_extension": ".py",
   "mimetype": "text/x-python",
   "name": "python",
   "nbconvert_exporter": "python",
   "pygments_lexer": "ipython3",
   "version": "3.7.3"
  }
 },
 "nbformat": 4,
 "nbformat_minor": 2
}
